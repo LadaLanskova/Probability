{
 "cells": [
  {
   "cell_type": "code",
   "execution_count": 2,
   "id": "3d16599f",
   "metadata": {},
   "outputs": [],
   "source": [
    "import numpy as np\n",
    "from scipy import stats\n",
    "import warnings\n",
    "warnings.filterwarnings(\"ignore\")"
   ]
  },
  {
   "cell_type": "code",
   "execution_count": 4,
   "id": "4ba6d68f",
   "metadata": {},
   "outputs": [
    {
     "data": {
      "text/plain": [
       "MannwhitneyuResult(statistic=8.0, pvalue=0.6285714285714286)"
      ]
     },
     "execution_count": 4,
     "metadata": {},
     "output_type": "execute_result"
    }
   ],
   "source": [
    "# Задача 1\n",
    "x1 = np.array([380, 420, 290])\n",
    "y1 = np.array([140, 360, 200, 900])\n",
    "stats.mannwhitneyu(x1, y1)"
   ]
  },
  {
   "cell_type": "code",
   "execution_count": 5,
   "id": "4cf24c4a",
   "metadata": {},
   "outputs": [],
   "source": [
    "#Уровень значимости 0,05. Не отвергаем нулевую гипотезу. Статистически значимых различий нет."
   ]
  },
  {
   "cell_type": "code",
   "execution_count": 10,
   "id": "62b79e8d",
   "metadata": {},
   "outputs": [
    {
     "data": {
      "text/plain": [
       "FriedmanchisquareResult(statistic=9.578947368421062, pvalue=0.00831683351100441)"
      ]
     },
     "execution_count": 10,
     "metadata": {},
     "output_type": "execute_result"
    }
   ],
   "source": [
    "# Задача 2\n",
    "x1 = np.array([150, 160, 165, 145, 155])\n",
    "x2 = np.array([140, 155, 150, 130, 135])\n",
    "x3 = np.array([130, 130, 120, 130, 125])\n",
    "stats.friedmanchisquare(x1, x2, x3)"
   ]
  },
  {
   "cell_type": "code",
   "execution_count": 11,
   "id": "c81b0174",
   "metadata": {},
   "outputs": [],
   "source": [
    "#Уровень значимости 0,05. Отвергаем нулевую гипотезу. Статистически значимые различия есть."
   ]
  },
  {
   "cell_type": "code",
   "execution_count": 16,
   "id": "8e479e77",
   "metadata": {},
   "outputs": [
    {
     "data": {
      "text/plain": [
       "WilcoxonResult(statistic=0.0, pvalue=0.0625)"
      ]
     },
     "execution_count": 16,
     "metadata": {},
     "output_type": "execute_result"
    }
   ],
   "source": [
    "# Задача 3\n",
    "x1 = np.array([150, 160, 165, 145, 155])\n",
    "x2 = np.array([140, 155, 150, 130, 135])\n",
    "stats.wilcoxon(x1, x2)"
   ]
  },
  {
   "cell_type": "code",
   "execution_count": null,
   "id": "cd39f9fc",
   "metadata": {},
   "outputs": [],
   "source": [
    "#Уровень значимости 0,05. Не отвергаем нулевую гипотезу. Статистически значимых различий нет.\n",
    "#При выбранном уровне значимости 0,1 нулевую гипотезу отвергаем, статистически значимые различия есть."
   ]
  },
  {
   "cell_type": "code",
   "execution_count": 24,
   "id": "f1a4f5a0",
   "metadata": {},
   "outputs": [
    {
     "data": {
      "text/plain": [
       "KruskalResult(statistic=5.465564058257224, pvalue=0.06503809985904942)"
      ]
     },
     "execution_count": 24,
     "metadata": {},
     "output_type": "execute_result"
    }
   ],
   "source": [
    "# Задача 4\n",
    "x1 = np.array([56, 60, 62, 55, 71, 67, 59, 58, 64, 67])\n",
    "x2 = np.array([57, 58, 69, 48, 72, 70, 68, 71, 50, 53])\n",
    "x3 = np.array([57, 67, 49, 48, 47, 55, 66, 51, 54])\n",
    "stats.kruskal(x1, x2, x3)"
   ]
  },
  {
   "cell_type": "code",
   "execution_count": 25,
   "id": "79c92fa8",
   "metadata": {},
   "outputs": [],
   "source": [
    "#Уровень значимости 0,05. Не отвергаем нулевую гипотезу. Статистически значимых различий нет."
   ]
  },
  {
   "cell_type": "code",
   "execution_count": 36,
   "id": "2f8270bd",
   "metadata": {},
   "outputs": [
    {
     "data": {
      "text/plain": [
       "(-2.262157162740992, 2.2621571627409915, 0.5630613661802959)"
      ]
     },
     "execution_count": 36,
     "metadata": {},
     "output_type": "execute_result"
    }
   ],
   "source": [
    "# Задача 5\n",
    "\n",
    "mu = 2.5\n",
    "alpha = 0.05\n",
    "x1 = np.array([2.51, 2.35, 2.74, 2.56, 2.40, 2.36, 2.65, 2.7, 2.67, 2.34])\n",
    "sigma=x1.std(ddof=1)\n",
    "x_mean = x1.mean()\n",
    "alpha, sigma, x_mean\n",
    "t1=stats.t.ppf(0.025, df = 9)\n",
    "t2=stats.t.ppf(1-0.025, df = 9)\n",
    "t1, t2\n",
    "\n",
    "t_emp = (x_mean-mu)/(sigma/np.sqrt(10))\n",
    "t1, t2, t_emp"
   ]
  },
  {
   "cell_type": "code",
   "execution_count": null,
   "id": "7d21cbb1",
   "metadata": {},
   "outputs": [],
   "source": [
    "# наблюдамое значение не попадает в критическую область, поэтому нулевая гипотеза не отвергается"
   ]
  }
 ],
 "metadata": {
  "kernelspec": {
   "display_name": "Python 3 (ipykernel)",
   "language": "python",
   "name": "python3"
  },
  "language_info": {
   "codemirror_mode": {
    "name": "ipython",
    "version": 3
   },
   "file_extension": ".py",
   "mimetype": "text/x-python",
   "name": "python",
   "nbconvert_exporter": "python",
   "pygments_lexer": "ipython3",
   "version": "3.10.7"
  }
 },
 "nbformat": 4,
 "nbformat_minor": 5
}
