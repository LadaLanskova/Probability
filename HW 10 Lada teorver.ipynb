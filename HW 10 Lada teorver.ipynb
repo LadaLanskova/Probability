{
 "cells": [
  {
   "cell_type": "code",
   "execution_count": 46,
   "id": "e78753c7",
   "metadata": {},
   "outputs": [],
   "source": [
    "import numpy as np\n",
    "from scipy import stats"
   ]
  },
  {
   "cell_type": "code",
   "execution_count": 47,
   "id": "8a6fda03",
   "metadata": {},
   "outputs": [
    {
     "name": "stdout",
     "output_type": "stream",
     "text": [
      "ShapiroResult(statistic=0.9775082468986511, pvalue=0.9495404362678528)\n",
      "ShapiroResult(statistic=0.9579196572303772, pvalue=0.7763139009475708)\n",
      "ShapiroResult(statistic=0.9386808276176453, pvalue=0.5051165223121643)\n"
     ]
    }
   ],
   "source": [
    "# проверяем на нормальность\n",
    "football = np.array([173, 175, 180, 178, 177, 185, 183, 182])\n",
    "hockey = np.array([177, 179, 180, 188, 177, 172, 171, 184, 180])\n",
    "barbell = np.array([172, 173, 169, 177, 166, 180, 178, 177, 172, 166, 170])\n",
    "print(stats.shapiro(football))\n",
    "print(stats.shapiro(hockey))\n",
    "print(stats.shapiro(barbell))"
   ]
  },
  {
   "cell_type": "code",
   "execution_count": 48,
   "id": "084a8a3c",
   "metadata": {},
   "outputs": [],
   "source": [
    "# pvalue > 0.05, т.е. все величины распределены нормально"
   ]
  },
  {
   "cell_type": "code",
   "execution_count": 49,
   "id": "d2682f10",
   "metadata": {},
   "outputs": [
    {
     "name": "stdout",
     "output_type": "stream",
     "text": [
      "BartlettResult(statistic=0.4640521043406442, pvalue=0.7929254656083131)\n"
     ]
    }
   ],
   "source": [
    "# проверяем равенство дисперсий\n",
    "print (stats.bartlett(football, hockey, barbell))"
   ]
  },
  {
   "cell_type": "code",
   "execution_count": 50,
   "id": "3d983309",
   "metadata": {},
   "outputs": [],
   "source": [
    "# pvalue > 0.05, т.е. дисперсии не имеют статистически значимых различий\n",
    "# Таким образом, можем проводить дисперсионный анализ"
   ]
  },
  {
   "cell_type": "code",
   "execution_count": 51,
   "id": "043d2da3",
   "metadata": {},
   "outputs": [
    {
     "data": {
      "text/plain": [
       "F_onewayResult(statistic=5.500053450812596, pvalue=0.010482206918698693)"
      ]
     },
     "execution_count": 51,
     "metadata": {},
     "output_type": "execute_result"
    }
   ],
   "source": [
    "# проводим тест Фишера\n",
    "stats.f_oneway(football, hockey, barbell)"
   ]
  },
  {
   "cell_type": "code",
   "execution_count": 52,
   "id": "8c3d8280",
   "metadata": {},
   "outputs": [],
   "source": [
    "# pvalue меньше 0.05, таким образом нулевая гипотеза отвергается, статистически значимые различия среднего роста есть."
   ]
  },
  {
   "cell_type": "code",
   "execution_count": 53,
   "id": "c9d9b694",
   "metadata": {},
   "outputs": [],
   "source": [
    "#Считаем вручную наблюдаемое значение критерия"
   ]
  },
  {
   "cell_type": "code",
   "execution_count": 54,
   "id": "15a16203",
   "metadata": {},
   "outputs": [
    {
     "data": {
      "text/plain": [
       "(8, 9, 11, 28)"
      ]
     },
     "execution_count": 54,
     "metadata": {},
     "output_type": "execute_result"
    }
   ],
   "source": [
    "k = 3\n",
    "n_f = len (football)\n",
    "n_h = len (hockey)\n",
    "n_b = len (barbell)\n",
    "n = n_f + n_h + n_b\n",
    "n_f, n_h, n_b, n"
   ]
  },
  {
   "cell_type": "code",
   "execution_count": 55,
   "id": "50783f3f",
   "metadata": {},
   "outputs": [
    {
     "data": {
      "text/plain": [
       "(179.125, 178.66666666666666, 172.72727272727272, 176.46428571428572)"
      ]
     },
     "execution_count": 55,
     "metadata": {},
     "output_type": "execute_result"
    }
   ],
   "source": [
    "# Считаем средние\n",
    "football_mean = np.mean(football)\n",
    "hockey_mean = np.mean(hockey)\n",
    "barbell_mean = np.mean(barbell)\n",
    "total = np.array ([173, 175, 180, 178, 177, 185, 183, 182, 177, 179, 180, 188, 177, 172, 171, 184, 180, 172, 173, 169, 177, 166, 180, 178, 177, 172, 166, 170])\n",
    "total_mean = np.mean(total)\n",
    "football_mean, hockey_mean, barbell_mean, total_mean"
   ]
  },
  {
   "cell_type": "code",
   "execution_count": 56,
   "id": "5a905933",
   "metadata": {},
   "outputs": [
    {
     "data": {
      "text/plain": [
       "(253.9074675324678, 577.0568181818182)"
      ]
     },
     "execution_count": 56,
     "metadata": {},
     "output_type": "execute_result"
    }
   ],
   "source": [
    "# сумма квадратов отклонений от общего среднего\n",
    "s_t = np.sum((total - total_mean)**2)\n",
    "# межгрупповое отклонение\n",
    "ss_b = np.sum((football_mean - total_mean)**2) * n_f + np.sum((hockey_mean - total_mean)**2) * n_h + np.sum((barbell_mean - total_mean)**2) * n_b\n",
    "ss_w = np.sum((football - football_mean)**2) + np.sum((hockey - hockey_mean)**2) + np.sum((barbell - barbell_mean)**2)\n",
    "ss_b, ss_w"
   ]
  },
  {
   "cell_type": "code",
   "execution_count": 57,
   "id": "3a6b7569",
   "metadata": {},
   "outputs": [
    {
     "data": {
      "text/plain": [
       "5.500053450812598"
      ]
     },
     "execution_count": 57,
     "metadata": {},
     "output_type": "execute_result"
    }
   ],
   "source": [
    "# считаем наблюдаемое значение критерия Фишера\n",
    "d_b = ss_b/(k-1)\n",
    "d_w = ss_w/(n-k)\n",
    "f_n = d_b/d_w\n",
    "f_n"
   ]
  },
  {
   "cell_type": "code",
   "execution_count": 62,
   "id": "7916ef98",
   "metadata": {},
   "outputs": [],
   "source": [
    "# Наблюдаемое значение больше критического (критическое по таблице = 3. 38 (для альфа = 0.05, k1 = 2 и k2 = 25)\n",
    "# Таким образом нулевую гипотезу отвергаем, статистически значимые различия есть."
   ]
  },
  {
   "cell_type": "code",
   "execution_count": 73,
   "id": "a136979d",
   "metadata": {},
   "outputs": [
    {
     "data": {
      "text/plain": [
       "Ttest_indResult(statistic=0.19614731169591437, pvalue=0.8471274829862304)"
      ]
     },
     "execution_count": 73,
     "metadata": {},
     "output_type": "execute_result"
    }
   ],
   "source": [
    "# проверяем гипотезу о равенстве среднего роста футболистов и хоккеистов\n",
    "stats.ttest_ind(football, hockey)"
   ]
  },
  {
   "cell_type": "code",
   "execution_count": 74,
   "id": "3dfed5ff",
   "metadata": {},
   "outputs": [],
   "source": [
    "# pvalue > 0.05 т.е. средний рост футболистов и хоккеистов\n",
    "# не имеют статистически значимых различий"
   ]
  },
  {
   "cell_type": "code",
   "execution_count": 75,
   "id": "22ec3e19",
   "metadata": {},
   "outputs": [
    {
     "data": {
      "text/plain": [
       "Ttest_indResult(statistic=3.03855188243496, pvalue=0.007418502503470327)"
      ]
     },
     "execution_count": 75,
     "metadata": {},
     "output_type": "execute_result"
    }
   ],
   "source": [
    "# проверяем гипотезу о равенстве среднего роста футболистов и штангистов\n",
    "stats.ttest_ind(football, barbell)"
   ]
  },
  {
   "cell_type": "code",
   "execution_count": 76,
   "id": "6230d3f8",
   "metadata": {},
   "outputs": [],
   "source": [
    "# pvalue < 0.05 т.е. средний рост футболистов и штангистов\n",
    "# имеют статистически значимые различия"
   ]
  },
  {
   "cell_type": "code",
   "execution_count": 77,
   "id": "9609d806",
   "metadata": {},
   "outputs": [
    {
     "data": {
      "text/plain": [
       "Ttest_indResult(statistic=2.6191601707417584, pvalue=0.017384077963160167)"
      ]
     },
     "execution_count": 77,
     "metadata": {},
     "output_type": "execute_result"
    }
   ],
   "source": [
    "# проверяем гипотезу о равенстве среднего роста хоккеистов и штангистов\n",
    "stats.ttest_ind(hockey, barbell)"
   ]
  },
  {
   "cell_type": "code",
   "execution_count": 78,
   "id": "045bc452",
   "metadata": {},
   "outputs": [],
   "source": [
    "# pvalue < 0.05 т.е. средний рост хоккеистов и штангистов\n",
    "# имеют статистически значимые различия"
   ]
  }
 ],
 "metadata": {
  "kernelspec": {
   "display_name": "Python 3 (ipykernel)",
   "language": "python",
   "name": "python3"
  },
  "language_info": {
   "codemirror_mode": {
    "name": "ipython",
    "version": 3
   },
   "file_extension": ".py",
   "mimetype": "text/x-python",
   "name": "python",
   "nbconvert_exporter": "python",
   "pygments_lexer": "ipython3",
   "version": "3.10.7"
  }
 },
 "nbformat": 4,
 "nbformat_minor": 5
}
